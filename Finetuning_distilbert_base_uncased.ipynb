{
  "nbformat": 4,
  "nbformat_minor": 0,
  "metadata": {
    "colab": {
      "provenance": [],
      "gpuType": "T4",
      "authorship_tag": "ABX9TyOIQZpMTjfNmhHARIdLOyIQ"
    },
    "kernelspec": {
      "name": "python3",
      "display_name": "Python 3"
    },
    "language_info": {
      "name": "python"
    },
    "accelerator": "GPU",
    "widgets": {
      "application/vnd.jupyter.widget-state+json": {
        "45c663ccfd0647b5bf0b424648ae7758": {
          "model_module": "@jupyter-widgets/controls",
          "model_name": "HBoxModel",
          "model_module_version": "1.5.0",
          "state": {
            "_dom_classes": [],
            "_model_module": "@jupyter-widgets/controls",
            "_model_module_version": "1.5.0",
            "_model_name": "HBoxModel",
            "_view_count": null,
            "_view_module": "@jupyter-widgets/controls",
            "_view_module_version": "1.5.0",
            "_view_name": "HBoxView",
            "box_style": "",
            "children": [
              "IPY_MODEL_eff218ea6b0b49a38d9cb18766295724",
              "IPY_MODEL_b1b2fcac6d4d4f8ab68ef25d4e41a343",
              "IPY_MODEL_ebd14584110b4453bf475a976575db16"
            ],
            "layout": "IPY_MODEL_c29855991fa8485c8bf5e5e1332ded42"
          }
        },
        "eff218ea6b0b49a38d9cb18766295724": {
          "model_module": "@jupyter-widgets/controls",
          "model_name": "HTMLModel",
          "model_module_version": "1.5.0",
          "state": {
            "_dom_classes": [],
            "_model_module": "@jupyter-widgets/controls",
            "_model_module_version": "1.5.0",
            "_model_name": "HTMLModel",
            "_view_count": null,
            "_view_module": "@jupyter-widgets/controls",
            "_view_module_version": "1.5.0",
            "_view_name": "HTMLView",
            "description": "",
            "description_tooltip": null,
            "layout": "IPY_MODEL_e0a7e6d672ca42c2822168565ef4e55f",
            "placeholder": "​",
            "style": "IPY_MODEL_504c92cc4b81401b9b73cf772a35aca4",
            "value": "Map: 100%"
          }
        },
        "b1b2fcac6d4d4f8ab68ef25d4e41a343": {
          "model_module": "@jupyter-widgets/controls",
          "model_name": "FloatProgressModel",
          "model_module_version": "1.5.0",
          "state": {
            "_dom_classes": [],
            "_model_module": "@jupyter-widgets/controls",
            "_model_module_version": "1.5.0",
            "_model_name": "FloatProgressModel",
            "_view_count": null,
            "_view_module": "@jupyter-widgets/controls",
            "_view_module_version": "1.5.0",
            "_view_name": "ProgressView",
            "bar_style": "success",
            "description": "",
            "description_tooltip": null,
            "layout": "IPY_MODEL_b047a4b8e4e4429683f70dd00416f7d9",
            "max": 49,
            "min": 0,
            "orientation": "horizontal",
            "style": "IPY_MODEL_ba4141825c2f4272a53754514554bdb3",
            "value": 49
          }
        },
        "ebd14584110b4453bf475a976575db16": {
          "model_module": "@jupyter-widgets/controls",
          "model_name": "HTMLModel",
          "model_module_version": "1.5.0",
          "state": {
            "_dom_classes": [],
            "_model_module": "@jupyter-widgets/controls",
            "_model_module_version": "1.5.0",
            "_model_name": "HTMLModel",
            "_view_count": null,
            "_view_module": "@jupyter-widgets/controls",
            "_view_module_version": "1.5.0",
            "_view_name": "HTMLView",
            "description": "",
            "description_tooltip": null,
            "layout": "IPY_MODEL_d3b9cc8762ab48b8b67cc4f8cc6c4dca",
            "placeholder": "​",
            "style": "IPY_MODEL_c5c4b33843804fd2b33c701d60b6775c",
            "value": " 49/49 [00:00&lt;00:00, 676.32 examples/s]"
          }
        },
        "c29855991fa8485c8bf5e5e1332ded42": {
          "model_module": "@jupyter-widgets/base",
          "model_name": "LayoutModel",
          "model_module_version": "1.2.0",
          "state": {
            "_model_module": "@jupyter-widgets/base",
            "_model_module_version": "1.2.0",
            "_model_name": "LayoutModel",
            "_view_count": null,
            "_view_module": "@jupyter-widgets/base",
            "_view_module_version": "1.2.0",
            "_view_name": "LayoutView",
            "align_content": null,
            "align_items": null,
            "align_self": null,
            "border": null,
            "bottom": null,
            "display": null,
            "flex": null,
            "flex_flow": null,
            "grid_area": null,
            "grid_auto_columns": null,
            "grid_auto_flow": null,
            "grid_auto_rows": null,
            "grid_column": null,
            "grid_gap": null,
            "grid_row": null,
            "grid_template_areas": null,
            "grid_template_columns": null,
            "grid_template_rows": null,
            "height": null,
            "justify_content": null,
            "justify_items": null,
            "left": null,
            "margin": null,
            "max_height": null,
            "max_width": null,
            "min_height": null,
            "min_width": null,
            "object_fit": null,
            "object_position": null,
            "order": null,
            "overflow": null,
            "overflow_x": null,
            "overflow_y": null,
            "padding": null,
            "right": null,
            "top": null,
            "visibility": null,
            "width": null
          }
        },
        "e0a7e6d672ca42c2822168565ef4e55f": {
          "model_module": "@jupyter-widgets/base",
          "model_name": "LayoutModel",
          "model_module_version": "1.2.0",
          "state": {
            "_model_module": "@jupyter-widgets/base",
            "_model_module_version": "1.2.0",
            "_model_name": "LayoutModel",
            "_view_count": null,
            "_view_module": "@jupyter-widgets/base",
            "_view_module_version": "1.2.0",
            "_view_name": "LayoutView",
            "align_content": null,
            "align_items": null,
            "align_self": null,
            "border": null,
            "bottom": null,
            "display": null,
            "flex": null,
            "flex_flow": null,
            "grid_area": null,
            "grid_auto_columns": null,
            "grid_auto_flow": null,
            "grid_auto_rows": null,
            "grid_column": null,
            "grid_gap": null,
            "grid_row": null,
            "grid_template_areas": null,
            "grid_template_columns": null,
            "grid_template_rows": null,
            "height": null,
            "justify_content": null,
            "justify_items": null,
            "left": null,
            "margin": null,
            "max_height": null,
            "max_width": null,
            "min_height": null,
            "min_width": null,
            "object_fit": null,
            "object_position": null,
            "order": null,
            "overflow": null,
            "overflow_x": null,
            "overflow_y": null,
            "padding": null,
            "right": null,
            "top": null,
            "visibility": null,
            "width": null
          }
        },
        "504c92cc4b81401b9b73cf772a35aca4": {
          "model_module": "@jupyter-widgets/controls",
          "model_name": "DescriptionStyleModel",
          "model_module_version": "1.5.0",
          "state": {
            "_model_module": "@jupyter-widgets/controls",
            "_model_module_version": "1.5.0",
            "_model_name": "DescriptionStyleModel",
            "_view_count": null,
            "_view_module": "@jupyter-widgets/base",
            "_view_module_version": "1.2.0",
            "_view_name": "StyleView",
            "description_width": ""
          }
        },
        "b047a4b8e4e4429683f70dd00416f7d9": {
          "model_module": "@jupyter-widgets/base",
          "model_name": "LayoutModel",
          "model_module_version": "1.2.0",
          "state": {
            "_model_module": "@jupyter-widgets/base",
            "_model_module_version": "1.2.0",
            "_model_name": "LayoutModel",
            "_view_count": null,
            "_view_module": "@jupyter-widgets/base",
            "_view_module_version": "1.2.0",
            "_view_name": "LayoutView",
            "align_content": null,
            "align_items": null,
            "align_self": null,
            "border": null,
            "bottom": null,
            "display": null,
            "flex": null,
            "flex_flow": null,
            "grid_area": null,
            "grid_auto_columns": null,
            "grid_auto_flow": null,
            "grid_auto_rows": null,
            "grid_column": null,
            "grid_gap": null,
            "grid_row": null,
            "grid_template_areas": null,
            "grid_template_columns": null,
            "grid_template_rows": null,
            "height": null,
            "justify_content": null,
            "justify_items": null,
            "left": null,
            "margin": null,
            "max_height": null,
            "max_width": null,
            "min_height": null,
            "min_width": null,
            "object_fit": null,
            "object_position": null,
            "order": null,
            "overflow": null,
            "overflow_x": null,
            "overflow_y": null,
            "padding": null,
            "right": null,
            "top": null,
            "visibility": null,
            "width": null
          }
        },
        "ba4141825c2f4272a53754514554bdb3": {
          "model_module": "@jupyter-widgets/controls",
          "model_name": "ProgressStyleModel",
          "model_module_version": "1.5.0",
          "state": {
            "_model_module": "@jupyter-widgets/controls",
            "_model_module_version": "1.5.0",
            "_model_name": "ProgressStyleModel",
            "_view_count": null,
            "_view_module": "@jupyter-widgets/base",
            "_view_module_version": "1.2.0",
            "_view_name": "StyleView",
            "bar_color": null,
            "description_width": ""
          }
        },
        "d3b9cc8762ab48b8b67cc4f8cc6c4dca": {
          "model_module": "@jupyter-widgets/base",
          "model_name": "LayoutModel",
          "model_module_version": "1.2.0",
          "state": {
            "_model_module": "@jupyter-widgets/base",
            "_model_module_version": "1.2.0",
            "_model_name": "LayoutModel",
            "_view_count": null,
            "_view_module": "@jupyter-widgets/base",
            "_view_module_version": "1.2.0",
            "_view_name": "LayoutView",
            "align_content": null,
            "align_items": null,
            "align_self": null,
            "border": null,
            "bottom": null,
            "display": null,
            "flex": null,
            "flex_flow": null,
            "grid_area": null,
            "grid_auto_columns": null,
            "grid_auto_flow": null,
            "grid_auto_rows": null,
            "grid_column": null,
            "grid_gap": null,
            "grid_row": null,
            "grid_template_areas": null,
            "grid_template_columns": null,
            "grid_template_rows": null,
            "height": null,
            "justify_content": null,
            "justify_items": null,
            "left": null,
            "margin": null,
            "max_height": null,
            "max_width": null,
            "min_height": null,
            "min_width": null,
            "object_fit": null,
            "object_position": null,
            "order": null,
            "overflow": null,
            "overflow_x": null,
            "overflow_y": null,
            "padding": null,
            "right": null,
            "top": null,
            "visibility": null,
            "width": null
          }
        },
        "c5c4b33843804fd2b33c701d60b6775c": {
          "model_module": "@jupyter-widgets/controls",
          "model_name": "DescriptionStyleModel",
          "model_module_version": "1.5.0",
          "state": {
            "_model_module": "@jupyter-widgets/controls",
            "_model_module_version": "1.5.0",
            "_model_name": "DescriptionStyleModel",
            "_view_count": null,
            "_view_module": "@jupyter-widgets/base",
            "_view_module_version": "1.2.0",
            "_view_name": "StyleView",
            "description_width": ""
          }
        },
        "b3b2d8a688ee4f3cbe2f56656ad13f7f": {
          "model_module": "@jupyter-widgets/controls",
          "model_name": "HBoxModel",
          "model_module_version": "1.5.0",
          "state": {
            "_dom_classes": [],
            "_model_module": "@jupyter-widgets/controls",
            "_model_module_version": "1.5.0",
            "_model_name": "HBoxModel",
            "_view_count": null,
            "_view_module": "@jupyter-widgets/controls",
            "_view_module_version": "1.5.0",
            "_view_name": "HBoxView",
            "box_style": "",
            "children": [
              "IPY_MODEL_ad833490f345440d9b34d8acf6d8d013",
              "IPY_MODEL_03abc56e25f84ed68a049d52b93c5749",
              "IPY_MODEL_8cd8ff73126a40e8b3a96d3e5d158ba8"
            ],
            "layout": "IPY_MODEL_7d04814d470b4caa968b364b8700cb59"
          }
        },
        "ad833490f345440d9b34d8acf6d8d013": {
          "model_module": "@jupyter-widgets/controls",
          "model_name": "HTMLModel",
          "model_module_version": "1.5.0",
          "state": {
            "_dom_classes": [],
            "_model_module": "@jupyter-widgets/controls",
            "_model_module_version": "1.5.0",
            "_model_name": "HTMLModel",
            "_view_count": null,
            "_view_module": "@jupyter-widgets/controls",
            "_view_module_version": "1.5.0",
            "_view_name": "HTMLView",
            "description": "",
            "description_tooltip": null,
            "layout": "IPY_MODEL_fe68b8fbda4047cd8feefabf07b02fd7",
            "placeholder": "​",
            "style": "IPY_MODEL_d7231ba6633b4c379899947c677a3963",
            "value": "Map: 100%"
          }
        },
        "03abc56e25f84ed68a049d52b93c5749": {
          "model_module": "@jupyter-widgets/controls",
          "model_name": "FloatProgressModel",
          "model_module_version": "1.5.0",
          "state": {
            "_dom_classes": [],
            "_model_module": "@jupyter-widgets/controls",
            "_model_module_version": "1.5.0",
            "_model_name": "FloatProgressModel",
            "_view_count": null,
            "_view_module": "@jupyter-widgets/controls",
            "_view_module_version": "1.5.0",
            "_view_name": "ProgressView",
            "bar_style": "success",
            "description": "",
            "description_tooltip": null,
            "layout": "IPY_MODEL_3898d79bc04e48e5bd92d8605e33d664",
            "max": 39,
            "min": 0,
            "orientation": "horizontal",
            "style": "IPY_MODEL_7c2608279474405dadaaad7a3e2ab2cb",
            "value": 39
          }
        },
        "8cd8ff73126a40e8b3a96d3e5d158ba8": {
          "model_module": "@jupyter-widgets/controls",
          "model_name": "HTMLModel",
          "model_module_version": "1.5.0",
          "state": {
            "_dom_classes": [],
            "_model_module": "@jupyter-widgets/controls",
            "_model_module_version": "1.5.0",
            "_model_name": "HTMLModel",
            "_view_count": null,
            "_view_module": "@jupyter-widgets/controls",
            "_view_module_version": "1.5.0",
            "_view_name": "HTMLView",
            "description": "",
            "description_tooltip": null,
            "layout": "IPY_MODEL_fd229a09e6654e368ab0bdc5adb82f6e",
            "placeholder": "​",
            "style": "IPY_MODEL_b11db33231454496957e020f1686ba82",
            "value": " 39/39 [00:00&lt;00:00, 1035.20 examples/s]"
          }
        },
        "7d04814d470b4caa968b364b8700cb59": {
          "model_module": "@jupyter-widgets/base",
          "model_name": "LayoutModel",
          "model_module_version": "1.2.0",
          "state": {
            "_model_module": "@jupyter-widgets/base",
            "_model_module_version": "1.2.0",
            "_model_name": "LayoutModel",
            "_view_count": null,
            "_view_module": "@jupyter-widgets/base",
            "_view_module_version": "1.2.0",
            "_view_name": "LayoutView",
            "align_content": null,
            "align_items": null,
            "align_self": null,
            "border": null,
            "bottom": null,
            "display": null,
            "flex": null,
            "flex_flow": null,
            "grid_area": null,
            "grid_auto_columns": null,
            "grid_auto_flow": null,
            "grid_auto_rows": null,
            "grid_column": null,
            "grid_gap": null,
            "grid_row": null,
            "grid_template_areas": null,
            "grid_template_columns": null,
            "grid_template_rows": null,
            "height": null,
            "justify_content": null,
            "justify_items": null,
            "left": null,
            "margin": null,
            "max_height": null,
            "max_width": null,
            "min_height": null,
            "min_width": null,
            "object_fit": null,
            "object_position": null,
            "order": null,
            "overflow": null,
            "overflow_x": null,
            "overflow_y": null,
            "padding": null,
            "right": null,
            "top": null,
            "visibility": null,
            "width": null
          }
        },
        "fe68b8fbda4047cd8feefabf07b02fd7": {
          "model_module": "@jupyter-widgets/base",
          "model_name": "LayoutModel",
          "model_module_version": "1.2.0",
          "state": {
            "_model_module": "@jupyter-widgets/base",
            "_model_module_version": "1.2.0",
            "_model_name": "LayoutModel",
            "_view_count": null,
            "_view_module": "@jupyter-widgets/base",
            "_view_module_version": "1.2.0",
            "_view_name": "LayoutView",
            "align_content": null,
            "align_items": null,
            "align_self": null,
            "border": null,
            "bottom": null,
            "display": null,
            "flex": null,
            "flex_flow": null,
            "grid_area": null,
            "grid_auto_columns": null,
            "grid_auto_flow": null,
            "grid_auto_rows": null,
            "grid_column": null,
            "grid_gap": null,
            "grid_row": null,
            "grid_template_areas": null,
            "grid_template_columns": null,
            "grid_template_rows": null,
            "height": null,
            "justify_content": null,
            "justify_items": null,
            "left": null,
            "margin": null,
            "max_height": null,
            "max_width": null,
            "min_height": null,
            "min_width": null,
            "object_fit": null,
            "object_position": null,
            "order": null,
            "overflow": null,
            "overflow_x": null,
            "overflow_y": null,
            "padding": null,
            "right": null,
            "top": null,
            "visibility": null,
            "width": null
          }
        },
        "d7231ba6633b4c379899947c677a3963": {
          "model_module": "@jupyter-widgets/controls",
          "model_name": "DescriptionStyleModel",
          "model_module_version": "1.5.0",
          "state": {
            "_model_module": "@jupyter-widgets/controls",
            "_model_module_version": "1.5.0",
            "_model_name": "DescriptionStyleModel",
            "_view_count": null,
            "_view_module": "@jupyter-widgets/base",
            "_view_module_version": "1.2.0",
            "_view_name": "StyleView",
            "description_width": ""
          }
        },
        "3898d79bc04e48e5bd92d8605e33d664": {
          "model_module": "@jupyter-widgets/base",
          "model_name": "LayoutModel",
          "model_module_version": "1.2.0",
          "state": {
            "_model_module": "@jupyter-widgets/base",
            "_model_module_version": "1.2.0",
            "_model_name": "LayoutModel",
            "_view_count": null,
            "_view_module": "@jupyter-widgets/base",
            "_view_module_version": "1.2.0",
            "_view_name": "LayoutView",
            "align_content": null,
            "align_items": null,
            "align_self": null,
            "border": null,
            "bottom": null,
            "display": null,
            "flex": null,
            "flex_flow": null,
            "grid_area": null,
            "grid_auto_columns": null,
            "grid_auto_flow": null,
            "grid_auto_rows": null,
            "grid_column": null,
            "grid_gap": null,
            "grid_row": null,
            "grid_template_areas": null,
            "grid_template_columns": null,
            "grid_template_rows": null,
            "height": null,
            "justify_content": null,
            "justify_items": null,
            "left": null,
            "margin": null,
            "max_height": null,
            "max_width": null,
            "min_height": null,
            "min_width": null,
            "object_fit": null,
            "object_position": null,
            "order": null,
            "overflow": null,
            "overflow_x": null,
            "overflow_y": null,
            "padding": null,
            "right": null,
            "top": null,
            "visibility": null,
            "width": null
          }
        },
        "7c2608279474405dadaaad7a3e2ab2cb": {
          "model_module": "@jupyter-widgets/controls",
          "model_name": "ProgressStyleModel",
          "model_module_version": "1.5.0",
          "state": {
            "_model_module": "@jupyter-widgets/controls",
            "_model_module_version": "1.5.0",
            "_model_name": "ProgressStyleModel",
            "_view_count": null,
            "_view_module": "@jupyter-widgets/base",
            "_view_module_version": "1.2.0",
            "_view_name": "StyleView",
            "bar_color": null,
            "description_width": ""
          }
        },
        "fd229a09e6654e368ab0bdc5adb82f6e": {
          "model_module": "@jupyter-widgets/base",
          "model_name": "LayoutModel",
          "model_module_version": "1.2.0",
          "state": {
            "_model_module": "@jupyter-widgets/base",
            "_model_module_version": "1.2.0",
            "_model_name": "LayoutModel",
            "_view_count": null,
            "_view_module": "@jupyter-widgets/base",
            "_view_module_version": "1.2.0",
            "_view_name": "LayoutView",
            "align_content": null,
            "align_items": null,
            "align_self": null,
            "border": null,
            "bottom": null,
            "display": null,
            "flex": null,
            "flex_flow": null,
            "grid_area": null,
            "grid_auto_columns": null,
            "grid_auto_flow": null,
            "grid_auto_rows": null,
            "grid_column": null,
            "grid_gap": null,
            "grid_row": null,
            "grid_template_areas": null,
            "grid_template_columns": null,
            "grid_template_rows": null,
            "height": null,
            "justify_content": null,
            "justify_items": null,
            "left": null,
            "margin": null,
            "max_height": null,
            "max_width": null,
            "min_height": null,
            "min_width": null,
            "object_fit": null,
            "object_position": null,
            "order": null,
            "overflow": null,
            "overflow_x": null,
            "overflow_y": null,
            "padding": null,
            "right": null,
            "top": null,
            "visibility": null,
            "width": null
          }
        },
        "b11db33231454496957e020f1686ba82": {
          "model_module": "@jupyter-widgets/controls",
          "model_name": "DescriptionStyleModel",
          "model_module_version": "1.5.0",
          "state": {
            "_model_module": "@jupyter-widgets/controls",
            "_model_module_version": "1.5.0",
            "_model_name": "DescriptionStyleModel",
            "_view_count": null,
            "_view_module": "@jupyter-widgets/base",
            "_view_module_version": "1.2.0",
            "_view_name": "StyleView",
            "description_width": ""
          }
        },
        "1bdc663b588140269271167aca6c792e": {
          "model_module": "@jupyter-widgets/controls",
          "model_name": "HBoxModel",
          "model_module_version": "1.5.0",
          "state": {
            "_dom_classes": [],
            "_model_module": "@jupyter-widgets/controls",
            "_model_module_version": "1.5.0",
            "_model_name": "HBoxModel",
            "_view_count": null,
            "_view_module": "@jupyter-widgets/controls",
            "_view_module_version": "1.5.0",
            "_view_name": "HBoxView",
            "box_style": "",
            "children": [
              "IPY_MODEL_0ae8364518c24d11812801b14e46f2c6",
              "IPY_MODEL_81184f4b360042758069f3b3dec03056",
              "IPY_MODEL_27d2f4bbd69d497d94aa3da8085d684c"
            ],
            "layout": "IPY_MODEL_753541428beb4a2dba8a1626a275258c"
          }
        },
        "0ae8364518c24d11812801b14e46f2c6": {
          "model_module": "@jupyter-widgets/controls",
          "model_name": "HTMLModel",
          "model_module_version": "1.5.0",
          "state": {
            "_dom_classes": [],
            "_model_module": "@jupyter-widgets/controls",
            "_model_module_version": "1.5.0",
            "_model_name": "HTMLModel",
            "_view_count": null,
            "_view_module": "@jupyter-widgets/controls",
            "_view_module_version": "1.5.0",
            "_view_name": "HTMLView",
            "description": "",
            "description_tooltip": null,
            "layout": "IPY_MODEL_c127c3198503465084202c5db6cfc189",
            "placeholder": "​",
            "style": "IPY_MODEL_2375da4e89814bc9923949537964df25",
            "value": "Map: 100%"
          }
        },
        "81184f4b360042758069f3b3dec03056": {
          "model_module": "@jupyter-widgets/controls",
          "model_name": "FloatProgressModel",
          "model_module_version": "1.5.0",
          "state": {
            "_dom_classes": [],
            "_model_module": "@jupyter-widgets/controls",
            "_model_module_version": "1.5.0",
            "_model_name": "FloatProgressModel",
            "_view_count": null,
            "_view_module": "@jupyter-widgets/controls",
            "_view_module_version": "1.5.0",
            "_view_name": "ProgressView",
            "bar_style": "success",
            "description": "",
            "description_tooltip": null,
            "layout": "IPY_MODEL_eaf272a04a9044fd9fa1164682a6bddc",
            "max": 5,
            "min": 0,
            "orientation": "horizontal",
            "style": "IPY_MODEL_527eda57cc2849f8a341b818bab7be7a",
            "value": 5
          }
        },
        "27d2f4bbd69d497d94aa3da8085d684c": {
          "model_module": "@jupyter-widgets/controls",
          "model_name": "HTMLModel",
          "model_module_version": "1.5.0",
          "state": {
            "_dom_classes": [],
            "_model_module": "@jupyter-widgets/controls",
            "_model_module_version": "1.5.0",
            "_model_name": "HTMLModel",
            "_view_count": null,
            "_view_module": "@jupyter-widgets/controls",
            "_view_module_version": "1.5.0",
            "_view_name": "HTMLView",
            "description": "",
            "description_tooltip": null,
            "layout": "IPY_MODEL_41fa6406da8545c2b669372b091bea15",
            "placeholder": "​",
            "style": "IPY_MODEL_944b6bdfe07c45898b52cbde5a594f38",
            "value": " 5/5 [00:00&lt;00:00, 117.20 examples/s]"
          }
        },
        "753541428beb4a2dba8a1626a275258c": {
          "model_module": "@jupyter-widgets/base",
          "model_name": "LayoutModel",
          "model_module_version": "1.2.0",
          "state": {
            "_model_module": "@jupyter-widgets/base",
            "_model_module_version": "1.2.0",
            "_model_name": "LayoutModel",
            "_view_count": null,
            "_view_module": "@jupyter-widgets/base",
            "_view_module_version": "1.2.0",
            "_view_name": "LayoutView",
            "align_content": null,
            "align_items": null,
            "align_self": null,
            "border": null,
            "bottom": null,
            "display": null,
            "flex": null,
            "flex_flow": null,
            "grid_area": null,
            "grid_auto_columns": null,
            "grid_auto_flow": null,
            "grid_auto_rows": null,
            "grid_column": null,
            "grid_gap": null,
            "grid_row": null,
            "grid_template_areas": null,
            "grid_template_columns": null,
            "grid_template_rows": null,
            "height": null,
            "justify_content": null,
            "justify_items": null,
            "left": null,
            "margin": null,
            "max_height": null,
            "max_width": null,
            "min_height": null,
            "min_width": null,
            "object_fit": null,
            "object_position": null,
            "order": null,
            "overflow": null,
            "overflow_x": null,
            "overflow_y": null,
            "padding": null,
            "right": null,
            "top": null,
            "visibility": null,
            "width": null
          }
        },
        "c127c3198503465084202c5db6cfc189": {
          "model_module": "@jupyter-widgets/base",
          "model_name": "LayoutModel",
          "model_module_version": "1.2.0",
          "state": {
            "_model_module": "@jupyter-widgets/base",
            "_model_module_version": "1.2.0",
            "_model_name": "LayoutModel",
            "_view_count": null,
            "_view_module": "@jupyter-widgets/base",
            "_view_module_version": "1.2.0",
            "_view_name": "LayoutView",
            "align_content": null,
            "align_items": null,
            "align_self": null,
            "border": null,
            "bottom": null,
            "display": null,
            "flex": null,
            "flex_flow": null,
            "grid_area": null,
            "grid_auto_columns": null,
            "grid_auto_flow": null,
            "grid_auto_rows": null,
            "grid_column": null,
            "grid_gap": null,
            "grid_row": null,
            "grid_template_areas": null,
            "grid_template_columns": null,
            "grid_template_rows": null,
            "height": null,
            "justify_content": null,
            "justify_items": null,
            "left": null,
            "margin": null,
            "max_height": null,
            "max_width": null,
            "min_height": null,
            "min_width": null,
            "object_fit": null,
            "object_position": null,
            "order": null,
            "overflow": null,
            "overflow_x": null,
            "overflow_y": null,
            "padding": null,
            "right": null,
            "top": null,
            "visibility": null,
            "width": null
          }
        },
        "2375da4e89814bc9923949537964df25": {
          "model_module": "@jupyter-widgets/controls",
          "model_name": "DescriptionStyleModel",
          "model_module_version": "1.5.0",
          "state": {
            "_model_module": "@jupyter-widgets/controls",
            "_model_module_version": "1.5.0",
            "_model_name": "DescriptionStyleModel",
            "_view_count": null,
            "_view_module": "@jupyter-widgets/base",
            "_view_module_version": "1.2.0",
            "_view_name": "StyleView",
            "description_width": ""
          }
        },
        "eaf272a04a9044fd9fa1164682a6bddc": {
          "model_module": "@jupyter-widgets/base",
          "model_name": "LayoutModel",
          "model_module_version": "1.2.0",
          "state": {
            "_model_module": "@jupyter-widgets/base",
            "_model_module_version": "1.2.0",
            "_model_name": "LayoutModel",
            "_view_count": null,
            "_view_module": "@jupyter-widgets/base",
            "_view_module_version": "1.2.0",
            "_view_name": "LayoutView",
            "align_content": null,
            "align_items": null,
            "align_self": null,
            "border": null,
            "bottom": null,
            "display": null,
            "flex": null,
            "flex_flow": null,
            "grid_area": null,
            "grid_auto_columns": null,
            "grid_auto_flow": null,
            "grid_auto_rows": null,
            "grid_column": null,
            "grid_gap": null,
            "grid_row": null,
            "grid_template_areas": null,
            "grid_template_columns": null,
            "grid_template_rows": null,
            "height": null,
            "justify_content": null,
            "justify_items": null,
            "left": null,
            "margin": null,
            "max_height": null,
            "max_width": null,
            "min_height": null,
            "min_width": null,
            "object_fit": null,
            "object_position": null,
            "order": null,
            "overflow": null,
            "overflow_x": null,
            "overflow_y": null,
            "padding": null,
            "right": null,
            "top": null,
            "visibility": null,
            "width": null
          }
        },
        "527eda57cc2849f8a341b818bab7be7a": {
          "model_module": "@jupyter-widgets/controls",
          "model_name": "ProgressStyleModel",
          "model_module_version": "1.5.0",
          "state": {
            "_model_module": "@jupyter-widgets/controls",
            "_model_module_version": "1.5.0",
            "_model_name": "ProgressStyleModel",
            "_view_count": null,
            "_view_module": "@jupyter-widgets/base",
            "_view_module_version": "1.2.0",
            "_view_name": "StyleView",
            "bar_color": null,
            "description_width": ""
          }
        },
        "41fa6406da8545c2b669372b091bea15": {
          "model_module": "@jupyter-widgets/base",
          "model_name": "LayoutModel",
          "model_module_version": "1.2.0",
          "state": {
            "_model_module": "@jupyter-widgets/base",
            "_model_module_version": "1.2.0",
            "_model_name": "LayoutModel",
            "_view_count": null,
            "_view_module": "@jupyter-widgets/base",
            "_view_module_version": "1.2.0",
            "_view_name": "LayoutView",
            "align_content": null,
            "align_items": null,
            "align_self": null,
            "border": null,
            "bottom": null,
            "display": null,
            "flex": null,
            "flex_flow": null,
            "grid_area": null,
            "grid_auto_columns": null,
            "grid_auto_flow": null,
            "grid_auto_rows": null,
            "grid_column": null,
            "grid_gap": null,
            "grid_row": null,
            "grid_template_areas": null,
            "grid_template_columns": null,
            "grid_template_rows": null,
            "height": null,
            "justify_content": null,
            "justify_items": null,
            "left": null,
            "margin": null,
            "max_height": null,
            "max_width": null,
            "min_height": null,
            "min_width": null,
            "object_fit": null,
            "object_position": null,
            "order": null,
            "overflow": null,
            "overflow_x": null,
            "overflow_y": null,
            "padding": null,
            "right": null,
            "top": null,
            "visibility": null,
            "width": null
          }
        },
        "944b6bdfe07c45898b52cbde5a594f38": {
          "model_module": "@jupyter-widgets/controls",
          "model_name": "DescriptionStyleModel",
          "model_module_version": "1.5.0",
          "state": {
            "_model_module": "@jupyter-widgets/controls",
            "_model_module_version": "1.5.0",
            "_model_name": "DescriptionStyleModel",
            "_view_count": null,
            "_view_module": "@jupyter-widgets/base",
            "_view_module_version": "1.2.0",
            "_view_name": "StyleView",
            "description_width": ""
          }
        },
        "6d36427cd3b94af5a4ed1034c0ce3d3b": {
          "model_module": "@jupyter-widgets/controls",
          "model_name": "HBoxModel",
          "model_module_version": "1.5.0",
          "state": {
            "_dom_classes": [],
            "_model_module": "@jupyter-widgets/controls",
            "_model_module_version": "1.5.0",
            "_model_name": "HBoxModel",
            "_view_count": null,
            "_view_module": "@jupyter-widgets/controls",
            "_view_module_version": "1.5.0",
            "_view_name": "HBoxView",
            "box_style": "",
            "children": [
              "IPY_MODEL_4c30f101176a42958d4bd7bf200958c6",
              "IPY_MODEL_bbae1da9e4c742cf9f8763eadb2f7cc9",
              "IPY_MODEL_864dcfb45f244cf79021cc13d79f5f42"
            ],
            "layout": "IPY_MODEL_036da98f3d524c309dd182e41f904bd2"
          }
        },
        "4c30f101176a42958d4bd7bf200958c6": {
          "model_module": "@jupyter-widgets/controls",
          "model_name": "HTMLModel",
          "model_module_version": "1.5.0",
          "state": {
            "_dom_classes": [],
            "_model_module": "@jupyter-widgets/controls",
            "_model_module_version": "1.5.0",
            "_model_name": "HTMLModel",
            "_view_count": null,
            "_view_module": "@jupyter-widgets/controls",
            "_view_module_version": "1.5.0",
            "_view_name": "HTMLView",
            "description": "",
            "description_tooltip": null,
            "layout": "IPY_MODEL_76ab0a78a1db42f7b22bd92150c9ed18",
            "placeholder": "​",
            "style": "IPY_MODEL_eb6f5bebe30146848c9d9168f49a3da4",
            "value": "Map: 100%"
          }
        },
        "bbae1da9e4c742cf9f8763eadb2f7cc9": {
          "model_module": "@jupyter-widgets/controls",
          "model_name": "FloatProgressModel",
          "model_module_version": "1.5.0",
          "state": {
            "_dom_classes": [],
            "_model_module": "@jupyter-widgets/controls",
            "_model_module_version": "1.5.0",
            "_model_name": "FloatProgressModel",
            "_view_count": null,
            "_view_module": "@jupyter-widgets/controls",
            "_view_module_version": "1.5.0",
            "_view_name": "ProgressView",
            "bar_style": "success",
            "description": "",
            "description_tooltip": null,
            "layout": "IPY_MODEL_1c7052c6cdcd4eb9bed288bf5d825e5b",
            "max": 5,
            "min": 0,
            "orientation": "horizontal",
            "style": "IPY_MODEL_52ff4bb7def543d2bdd0bacc355d0ffb",
            "value": 5
          }
        },
        "864dcfb45f244cf79021cc13d79f5f42": {
          "model_module": "@jupyter-widgets/controls",
          "model_name": "HTMLModel",
          "model_module_version": "1.5.0",
          "state": {
            "_dom_classes": [],
            "_model_module": "@jupyter-widgets/controls",
            "_model_module_version": "1.5.0",
            "_model_name": "HTMLModel",
            "_view_count": null,
            "_view_module": "@jupyter-widgets/controls",
            "_view_module_version": "1.5.0",
            "_view_name": "HTMLView",
            "description": "",
            "description_tooltip": null,
            "layout": "IPY_MODEL_3830ee3b55ce4ef08e102755c99aa736",
            "placeholder": "​",
            "style": "IPY_MODEL_277740331f514b3796d311b21c173d1d",
            "value": " 5/5 [00:00&lt;00:00, 119.69 examples/s]"
          }
        },
        "036da98f3d524c309dd182e41f904bd2": {
          "model_module": "@jupyter-widgets/base",
          "model_name": "LayoutModel",
          "model_module_version": "1.2.0",
          "state": {
            "_model_module": "@jupyter-widgets/base",
            "_model_module_version": "1.2.0",
            "_model_name": "LayoutModel",
            "_view_count": null,
            "_view_module": "@jupyter-widgets/base",
            "_view_module_version": "1.2.0",
            "_view_name": "LayoutView",
            "align_content": null,
            "align_items": null,
            "align_self": null,
            "border": null,
            "bottom": null,
            "display": null,
            "flex": null,
            "flex_flow": null,
            "grid_area": null,
            "grid_auto_columns": null,
            "grid_auto_flow": null,
            "grid_auto_rows": null,
            "grid_column": null,
            "grid_gap": null,
            "grid_row": null,
            "grid_template_areas": null,
            "grid_template_columns": null,
            "grid_template_rows": null,
            "height": null,
            "justify_content": null,
            "justify_items": null,
            "left": null,
            "margin": null,
            "max_height": null,
            "max_width": null,
            "min_height": null,
            "min_width": null,
            "object_fit": null,
            "object_position": null,
            "order": null,
            "overflow": null,
            "overflow_x": null,
            "overflow_y": null,
            "padding": null,
            "right": null,
            "top": null,
            "visibility": null,
            "width": null
          }
        },
        "76ab0a78a1db42f7b22bd92150c9ed18": {
          "model_module": "@jupyter-widgets/base",
          "model_name": "LayoutModel",
          "model_module_version": "1.2.0",
          "state": {
            "_model_module": "@jupyter-widgets/base",
            "_model_module_version": "1.2.0",
            "_model_name": "LayoutModel",
            "_view_count": null,
            "_view_module": "@jupyter-widgets/base",
            "_view_module_version": "1.2.0",
            "_view_name": "LayoutView",
            "align_content": null,
            "align_items": null,
            "align_self": null,
            "border": null,
            "bottom": null,
            "display": null,
            "flex": null,
            "flex_flow": null,
            "grid_area": null,
            "grid_auto_columns": null,
            "grid_auto_flow": null,
            "grid_auto_rows": null,
            "grid_column": null,
            "grid_gap": null,
            "grid_row": null,
            "grid_template_areas": null,
            "grid_template_columns": null,
            "grid_template_rows": null,
            "height": null,
            "justify_content": null,
            "justify_items": null,
            "left": null,
            "margin": null,
            "max_height": null,
            "max_width": null,
            "min_height": null,
            "min_width": null,
            "object_fit": null,
            "object_position": null,
            "order": null,
            "overflow": null,
            "overflow_x": null,
            "overflow_y": null,
            "padding": null,
            "right": null,
            "top": null,
            "visibility": null,
            "width": null
          }
        },
        "eb6f5bebe30146848c9d9168f49a3da4": {
          "model_module": "@jupyter-widgets/controls",
          "model_name": "DescriptionStyleModel",
          "model_module_version": "1.5.0",
          "state": {
            "_model_module": "@jupyter-widgets/controls",
            "_model_module_version": "1.5.0",
            "_model_name": "DescriptionStyleModel",
            "_view_count": null,
            "_view_module": "@jupyter-widgets/base",
            "_view_module_version": "1.2.0",
            "_view_name": "StyleView",
            "description_width": ""
          }
        },
        "1c7052c6cdcd4eb9bed288bf5d825e5b": {
          "model_module": "@jupyter-widgets/base",
          "model_name": "LayoutModel",
          "model_module_version": "1.2.0",
          "state": {
            "_model_module": "@jupyter-widgets/base",
            "_model_module_version": "1.2.0",
            "_model_name": "LayoutModel",
            "_view_count": null,
            "_view_module": "@jupyter-widgets/base",
            "_view_module_version": "1.2.0",
            "_view_name": "LayoutView",
            "align_content": null,
            "align_items": null,
            "align_self": null,
            "border": null,
            "bottom": null,
            "display": null,
            "flex": null,
            "flex_flow": null,
            "grid_area": null,
            "grid_auto_columns": null,
            "grid_auto_flow": null,
            "grid_auto_rows": null,
            "grid_column": null,
            "grid_gap": null,
            "grid_row": null,
            "grid_template_areas": null,
            "grid_template_columns": null,
            "grid_template_rows": null,
            "height": null,
            "justify_content": null,
            "justify_items": null,
            "left": null,
            "margin": null,
            "max_height": null,
            "max_width": null,
            "min_height": null,
            "min_width": null,
            "object_fit": null,
            "object_position": null,
            "order": null,
            "overflow": null,
            "overflow_x": null,
            "overflow_y": null,
            "padding": null,
            "right": null,
            "top": null,
            "visibility": null,
            "width": null
          }
        },
        "52ff4bb7def543d2bdd0bacc355d0ffb": {
          "model_module": "@jupyter-widgets/controls",
          "model_name": "ProgressStyleModel",
          "model_module_version": "1.5.0",
          "state": {
            "_model_module": "@jupyter-widgets/controls",
            "_model_module_version": "1.5.0",
            "_model_name": "ProgressStyleModel",
            "_view_count": null,
            "_view_module": "@jupyter-widgets/base",
            "_view_module_version": "1.2.0",
            "_view_name": "StyleView",
            "bar_color": null,
            "description_width": ""
          }
        },
        "3830ee3b55ce4ef08e102755c99aa736": {
          "model_module": "@jupyter-widgets/base",
          "model_name": "LayoutModel",
          "model_module_version": "1.2.0",
          "state": {
            "_model_module": "@jupyter-widgets/base",
            "_model_module_version": "1.2.0",
            "_model_name": "LayoutModel",
            "_view_count": null,
            "_view_module": "@jupyter-widgets/base",
            "_view_module_version": "1.2.0",
            "_view_name": "LayoutView",
            "align_content": null,
            "align_items": null,
            "align_self": null,
            "border": null,
            "bottom": null,
            "display": null,
            "flex": null,
            "flex_flow": null,
            "grid_area": null,
            "grid_auto_columns": null,
            "grid_auto_flow": null,
            "grid_auto_rows": null,
            "grid_column": null,
            "grid_gap": null,
            "grid_row": null,
            "grid_template_areas": null,
            "grid_template_columns": null,
            "grid_template_rows": null,
            "height": null,
            "justify_content": null,
            "justify_items": null,
            "left": null,
            "margin": null,
            "max_height": null,
            "max_width": null,
            "min_height": null,
            "min_width": null,
            "object_fit": null,
            "object_position": null,
            "order": null,
            "overflow": null,
            "overflow_x": null,
            "overflow_y": null,
            "padding": null,
            "right": null,
            "top": null,
            "visibility": null,
            "width": null
          }
        },
        "277740331f514b3796d311b21c173d1d": {
          "model_module": "@jupyter-widgets/controls",
          "model_name": "DescriptionStyleModel",
          "model_module_version": "1.5.0",
          "state": {
            "_model_module": "@jupyter-widgets/controls",
            "_model_module_version": "1.5.0",
            "_model_name": "DescriptionStyleModel",
            "_view_count": null,
            "_view_module": "@jupyter-widgets/base",
            "_view_module_version": "1.2.0",
            "_view_name": "StyleView",
            "description_width": ""
          }
        }
      }
    }
  },
  "cells": [
    {
      "cell_type": "code",
      "execution_count": null,
      "metadata": {
        "colab": {
          "base_uri": "https://localhost:8080/",
          "height": 35
        },
        "id": "yRDuBTpw9PEB",
        "outputId": "448f138b-3cfb-4fbe-8ca0-c4488c77fc83"
      },
      "outputs": [
        {
          "output_type": "execute_result",
          "data": {
            "text/plain": [
              "'/content/sample_data/sas_to_pyspark_prompts.csv'"
            ],
            "application/vnd.google.colaboratory.intrinsic+json": {
              "type": "string"
            }
          },
          "metadata": {},
          "execution_count": 1
        }
      ],
      "source": [
        "import pandas as pd\n",
        "\n",
        "# Define the prompts (SAS code) and responses (PySpark code)\n",
        "data = {\n",
        "    \"Prompt (SAS Code)\": [\n",
        "        \"data work.example; set sashelp.class; run;\",\n",
        "        \"proc sql; select * from table; quit;\",\n",
        "        \"data work.new; set old; where age > 30; run;\",\n",
        "        \"proc sort data=sashelp.class out=sorted; by age; run;\",\n",
        "        \"proc means data=sashelp.class; var age; run;\",\n",
        "        \"data subset; set sashelp.cars; where make='Toyota'; run;\",\n",
        "        \"proc freq data=sashelp.class; tables sex; run;\",\n",
        "        \"data merged; merge work.data1 work.data2; by id; run;\",\n",
        "        \"proc transpose data=sashelp.class out=transposed; run;\",\n",
        "        \"data new; set old; if age > 20 then group='A'; else group='B'; run;\",\n",
        "        \"proc print data=sashelp.class; where age < 15; run;\",\n",
        "        \"proc sql; create table new as select * from old where id > 100; quit;\",\n",
        "        \"data summary; set sashelp.cars; avg_price = mean(of price:); run;\",\n",
        "        \"proc sort data=sashelp.cars out=sorted; by make; run;\",\n",
        "        \"data result; set input; if salary > 50000; run;\",\n",
        "        \"proc means data=sashelp.iris; var petalwidth; run;\",\n",
        "        \"proc sql; select count(*) from sashelp.class where sex='M'; quit;\",\n",
        "        \"data class; set sashelp.class; keep name age; run;\",\n",
        "        \"proc append base=work.data new=work.newdata; run;\",\n",
        "        \"data new; set sashelp.class; length group $1; group = substr(sex, 1, 1); run;\",\n",
        "        \"proc corr data=sashelp.cars; var horsepower mpg_city; run;\",\n",
        "        \"data filtered; set sashelp.iris; where species='Setosa'; run;\",\n",
        "        \"proc sql; update table set column = 'new_value' where id = 10; quit;\",\n",
        "        \"data final; merge data1 (in=a) data2 (in=b); by id; if a and b; run;\",\n",
        "        \"proc rank data=sashelp.class out=ranks; var age; ranks rank_age; run;\",\n",
        "        \"data grouped; set sashelp.cars; by make; if first.make; run;\",\n",
        "        \"proc sql; alter table table_name add column new_col num; quit;\",\n",
        "        \"data wide; set long; array years[3] year1-year3; run;\",\n",
        "        \"proc sql; delete from table where id=5; quit;\",\n",
        "        \"data stepwise; set sashelp.class; if age in (10, 12, 14); run;\",\n",
        "        \"proc datasets lib=work; delete data; quit;\",\n",
        "        \"data updated; set sashelp.cars; if mpg_city > 30; run;\",\n",
        "        \"proc summary data=sashelp.cars; var price; output out=summary mean=avg_price; run;\",\n",
        "        \"data sampled; set sashelp.class; if mod(_n_, 2) = 0; run;\",\n",
        "        \"proc means data=sashelp.cars noprint; output out=summary mean(price)=avg_price; run;\",\n",
        "        \"data combined; set sashelp.class sashelp.cars; run;\",\n",
        "        \"proc univariate data=sashelp.class; var height; run;\",\n",
        "        \"data first_n; set sashelp.class(obs=10); run;\",\n",
        "        \"proc sql; drop table old_table; quit;\",\n",
        "        \"data read_csv; infile '/path/to/file.csv' dlm=','; input id name age; run;\",\n",
        "        \"proc sql; create index idx_id on table(id); quit;\",\n",
        "        \"data truncate; set table; keep id name; run;\",\n",
        "        \"proc sql; select distinct column from table; quit;\",\n",
        "        \"data new_column; set old; new_var = catx('-', var1, var2); run;\",\n",
        "        \"proc sql; describe table table_name; quit;\",\n",
        "        \"data fill; set old; if var = . then var = 0; run;\",\n",
        "        \"proc export data=sashelp.class outfile='/path/to/file.csv' dbms=csv replace; run;\",\n",
        "        \"data labels; set sashelp.class; label age='Student Age'; run;\",\n",
        "        \"proc sql; select * from table where column like '%value%'; quit;\"\n",
        "    ],\n",
        "    \"Response (PySpark Code)\": [\n",
        "        \"df = spark.read.format('sas7bdat').load('sashelp.class')\",\n",
        "        \"spark.sql('SELECT * FROM table')\",\n",
        "        \"df = df.filter(df.age > 30)\",\n",
        "        \"df = df.orderBy('age')\",\n",
        "        \"df.selectExpr('avg(age)').show()\",\n",
        "        \"df = df.filter(df.make == 'Toyota')\",\n",
        "        \"df.groupBy('sex').count().show()\",\n",
        "        \"merged_df = df1.join(df2, 'id')\",\n",
        "        \"transposed_df = df.selectExpr('stack(2, name, age)')\",\n",
        "        \"df = df.withColumn('group', when(df.age > 20, 'A').otherwise('B'))\",\n",
        "        \"df.filter(df.age < 15).show()\",\n",
        "        \"df.createOrReplaceTempView('old')\\nspark.sql('SELECT * FROM old WHERE id > 100')\",\n",
        "        \"df = df.withColumn('avg_price', avg(col('price')).over())\",\n",
        "        \"df = df.orderBy('make')\",\n",
        "        \"df = df.filter(df.salary > 50000)\",\n",
        "        \"df.selectExpr('avg(petalwidth)').show()\",\n",
        "        \"df.filter(df.sex == 'M').count()\",\n",
        "        \"df = df.select('name', 'age')\",\n",
        "        \"df = df.union(new_data_df)\",\n",
        "        \"df = df.withColumn('group', df.sex.substr(0, 1))\",\n",
        "        \"df.stat.corr('horsepower', 'mpg_city')\",\n",
        "        \"df = df.filter(df.species == 'Setosa')\",\n",
        "        \"df = df.withColumn('column', when(df.id == 10, 'new_value').otherwise(df.column))\",\n",
        "        \"df1.join(df2, 'id', 'inner')\",\n",
        "        \"df = df.withColumn('rank_age', rank().over(Window.orderBy('age')))\",\n",
        "        \"df = df.dropDuplicates(['make'])\",\n",
        "        \"df = df.withColumn('new_col', lit(None).cast('integer'))\",\n",
        "        \"df = df.selectExpr('stack(3, year1, year2, year3)')\",\n",
        "        \"df = df.filter(df.id != 5)\",\n",
        "        \"df = df.filter(df.age.isin(10, 12, 14))\",\n",
        "        \"spark.catalog.dropTempView('data')\",\n",
        "        \"df = df.filter(df.mpg_city > 30)\",\n",
        "        \"summary_df = df.agg(avg(col('price')).alias('avg_price'))\",\n",
        "        \"df = df.filter(df.index % 2 == 0)\",\n",
        "        \"summary_df = df.groupBy().agg(avg('price').alias('avg_price'))\",\n",
        "        \"df = df.union(df_cars)\",\n",
        "        \"df.selectExpr('percentile_approx(height, 0.5)').show()\",\n",
        "        \"df.limit(10).show()\",\n",
        "        \"spark.sql('DROP TABLE old_table')\",\n",
        "        \"df = spark.read.csv('/path/to/file.csv', header=True)\",\n",
        "        \"df = df.withColumn('index', monotonically_increasing_id())\",\n",
        "        \"df = df.select('id', 'name')\",\n",
        "        \"df.select('column').distinct().show()\",\n",
        "        \"df = df.withColumn('new_var', concat_ws('-', df.var1, df.var2))\",\n",
        "        \"df.describe().show()\",\n",
        "        \"df = df.fillna({'var': 0})\",\n",
        "        \"df.write.csv('/path/to/file.csv')\",\n",
        "        \"df = df.withColumnRenamed('age', 'Student Age')\",\n",
        "        \"df.filter(df.column.like('%value%')).show()\"\n",
        "    ]\n",
        "}\n",
        "\n",
        "# Create a DataFrame\n",
        "df = pd.DataFrame(data)\n",
        "\n",
        "# Save to CSV\n",
        "file_path = \"/content/sample_data/sas_to_pyspark_prompts.csv\"\n",
        "df.to_csv(file_path, index=False)\n",
        "\n",
        "file_path\n"
      ]
    },
    {
      "cell_type": "code",
      "source": [
        "!pip install nltk datasets transformers[torch] tokenizers evaluate sentencepiece huggingface_hub sacrebleu"
      ],
      "metadata": {
        "colab": {
          "base_uri": "https://localhost:8080/"
        },
        "id": "lvJVLZiXAnxS",
        "outputId": "a22bc773-0bb1-430f-cf0c-ee98b446f5f9"
      },
      "execution_count": null,
      "outputs": [
        {
          "output_type": "stream",
          "name": "stdout",
          "text": [
            "Requirement already satisfied: nltk in /usr/local/lib/python3.10/dist-packages (3.9.1)\n",
            "Requirement already satisfied: datasets in /usr/local/lib/python3.10/dist-packages (3.2.0)\n",
            "Requirement already satisfied: tokenizers in /usr/local/lib/python3.10/dist-packages (0.21.0)\n",
            "Requirement already satisfied: evaluate in /usr/local/lib/python3.10/dist-packages (0.4.3)\n",
            "Requirement already satisfied: sentencepiece in /usr/local/lib/python3.10/dist-packages (0.2.0)\n",
            "Requirement already satisfied: huggingface_hub in /usr/local/lib/python3.10/dist-packages (0.27.0)\n",
            "Requirement already satisfied: sacrebleu in /usr/local/lib/python3.10/dist-packages (2.4.3)\n",
            "Requirement already satisfied: transformers[torch] in /usr/local/lib/python3.10/dist-packages (4.47.1)\n",
            "Requirement already satisfied: click in /usr/local/lib/python3.10/dist-packages (from nltk) (8.1.7)\n",
            "Requirement already satisfied: joblib in /usr/local/lib/python3.10/dist-packages (from nltk) (1.4.2)\n",
            "Requirement already satisfied: regex>=2021.8.3 in /usr/local/lib/python3.10/dist-packages (from nltk) (2024.11.6)\n",
            "Requirement already satisfied: tqdm in /usr/local/lib/python3.10/dist-packages (from nltk) (4.67.1)\n",
            "Requirement already satisfied: filelock in /usr/local/lib/python3.10/dist-packages (from datasets) (3.16.1)\n",
            "Requirement already satisfied: numpy>=1.17 in /usr/local/lib/python3.10/dist-packages (from datasets) (1.26.4)\n",
            "Requirement already satisfied: pyarrow>=15.0.0 in /usr/local/lib/python3.10/dist-packages (from datasets) (17.0.0)\n",
            "Requirement already satisfied: dill<0.3.9,>=0.3.0 in /usr/local/lib/python3.10/dist-packages (from datasets) (0.3.8)\n",
            "Requirement already satisfied: pandas in /usr/local/lib/python3.10/dist-packages (from datasets) (2.2.2)\n",
            "Requirement already satisfied: requests>=2.32.2 in /usr/local/lib/python3.10/dist-packages (from datasets) (2.32.3)\n",
            "Requirement already satisfied: xxhash in /usr/local/lib/python3.10/dist-packages (from datasets) (3.5.0)\n",
            "Requirement already satisfied: multiprocess<0.70.17 in /usr/local/lib/python3.10/dist-packages (from datasets) (0.70.16)\n",
            "Requirement already satisfied: fsspec<=2024.9.0,>=2023.1.0 in /usr/local/lib/python3.10/dist-packages (from fsspec[http]<=2024.9.0,>=2023.1.0->datasets) (2024.9.0)\n",
            "Requirement already satisfied: aiohttp in /usr/local/lib/python3.10/dist-packages (from datasets) (3.11.10)\n",
            "Requirement already satisfied: packaging in /usr/local/lib/python3.10/dist-packages (from datasets) (24.2)\n",
            "Requirement already satisfied: pyyaml>=5.1 in /usr/local/lib/python3.10/dist-packages (from datasets) (6.0.2)\n",
            "Requirement already satisfied: safetensors>=0.4.1 in /usr/local/lib/python3.10/dist-packages (from transformers[torch]) (0.4.5)\n",
            "Requirement already satisfied: torch in /usr/local/lib/python3.10/dist-packages (from transformers[torch]) (2.5.1+cu121)\n",
            "Requirement already satisfied: accelerate>=0.26.0 in /usr/local/lib/python3.10/dist-packages (from transformers[torch]) (1.2.1)\n",
            "Requirement already satisfied: typing-extensions>=3.7.4.3 in /usr/local/lib/python3.10/dist-packages (from huggingface_hub) (4.12.2)\n",
            "Requirement already satisfied: portalocker in /usr/local/lib/python3.10/dist-packages (from sacrebleu) (3.0.0)\n",
            "Requirement already satisfied: tabulate>=0.8.9 in /usr/local/lib/python3.10/dist-packages (from sacrebleu) (0.9.0)\n",
            "Requirement already satisfied: colorama in /usr/local/lib/python3.10/dist-packages (from sacrebleu) (0.4.6)\n",
            "Requirement already satisfied: lxml in /usr/local/lib/python3.10/dist-packages (from sacrebleu) (5.3.0)\n",
            "Requirement already satisfied: psutil in /usr/local/lib/python3.10/dist-packages (from accelerate>=0.26.0->transformers[torch]) (5.9.5)\n",
            "Requirement already satisfied: aiohappyeyeballs>=2.3.0 in /usr/local/lib/python3.10/dist-packages (from aiohttp->datasets) (2.4.4)\n",
            "Requirement already satisfied: aiosignal>=1.1.2 in /usr/local/lib/python3.10/dist-packages (from aiohttp->datasets) (1.3.2)\n",
            "Requirement already satisfied: async-timeout<6.0,>=4.0 in /usr/local/lib/python3.10/dist-packages (from aiohttp->datasets) (4.0.3)\n",
            "Requirement already satisfied: attrs>=17.3.0 in /usr/local/lib/python3.10/dist-packages (from aiohttp->datasets) (24.3.0)\n",
            "Requirement already satisfied: frozenlist>=1.1.1 in /usr/local/lib/python3.10/dist-packages (from aiohttp->datasets) (1.5.0)\n",
            "Requirement already satisfied: multidict<7.0,>=4.5 in /usr/local/lib/python3.10/dist-packages (from aiohttp->datasets) (6.1.0)\n",
            "Requirement already satisfied: propcache>=0.2.0 in /usr/local/lib/python3.10/dist-packages (from aiohttp->datasets) (0.2.1)\n",
            "Requirement already satisfied: yarl<2.0,>=1.17.0 in /usr/local/lib/python3.10/dist-packages (from aiohttp->datasets) (1.18.3)\n",
            "Requirement already satisfied: charset-normalizer<4,>=2 in /usr/local/lib/python3.10/dist-packages (from requests>=2.32.2->datasets) (3.4.0)\n",
            "Requirement already satisfied: idna<4,>=2.5 in /usr/local/lib/python3.10/dist-packages (from requests>=2.32.2->datasets) (3.10)\n",
            "Requirement already satisfied: urllib3<3,>=1.21.1 in /usr/local/lib/python3.10/dist-packages (from requests>=2.32.2->datasets) (2.2.3)\n",
            "Requirement already satisfied: certifi>=2017.4.17 in /usr/local/lib/python3.10/dist-packages (from requests>=2.32.2->datasets) (2024.12.14)\n",
            "Requirement already satisfied: networkx in /usr/local/lib/python3.10/dist-packages (from torch->transformers[torch]) (3.4.2)\n",
            "Requirement already satisfied: jinja2 in /usr/local/lib/python3.10/dist-packages (from torch->transformers[torch]) (3.1.4)\n",
            "Requirement already satisfied: sympy==1.13.1 in /usr/local/lib/python3.10/dist-packages (from torch->transformers[torch]) (1.13.1)\n",
            "Requirement already satisfied: mpmath<1.4,>=1.1.0 in /usr/local/lib/python3.10/dist-packages (from sympy==1.13.1->torch->transformers[torch]) (1.3.0)\n",
            "Requirement already satisfied: python-dateutil>=2.8.2 in /usr/local/lib/python3.10/dist-packages (from pandas->datasets) (2.8.2)\n",
            "Requirement already satisfied: pytz>=2020.1 in /usr/local/lib/python3.10/dist-packages (from pandas->datasets) (2024.2)\n",
            "Requirement already satisfied: tzdata>=2022.7 in /usr/local/lib/python3.10/dist-packages (from pandas->datasets) (2024.2)\n",
            "Requirement already satisfied: six>=1.5 in /usr/local/lib/python3.10/dist-packages (from python-dateutil>=2.8.2->pandas->datasets) (1.17.0)\n",
            "Requirement already satisfied: MarkupSafe>=2.0 in /usr/local/lib/python3.10/dist-packages (from jinja2->torch->transformers[torch]) (3.0.2)\n"
          ]
        }
      ]
    },
    {
      "cell_type": "code",
      "source": [
        "import os\n",
        "os.environ[\"HF_TOKEN\"] = \"\""
      ],
      "metadata": {
        "id": "LzDO64q9A-7g"
      },
      "execution_count": null,
      "outputs": []
    },
    {
      "cell_type": "code",
      "source": [
        "from transformers import AutoTokenizer, AutoModelForSequenceClassification\n",
        "import pandas as pd"
      ],
      "metadata": {
        "id": "UrgBqRaUBNcv"
      },
      "execution_count": null,
      "outputs": []
    },
    {
      "cell_type": "code",
      "source": [
        "df = pd.read_csv('/content/sample_data/sas_to_pyspark_prompts.csv')  # Replace 'your_file.csv' with the actual path"
      ],
      "metadata": {
        "id": "l6K7PF0xBgCy"
      },
      "execution_count": null,
      "outputs": []
    },
    {
      "cell_type": "code",
      "source": [
        "model_name = \"distilbert-base-uncased\"  # Or \"bert-base-uncased\"\n",
        "tokenizer = AutoTokenizer.from_pretrained(model_name)\n",
        "num_classes = 2  # Replace with the actual number of classes in your data\n",
        "model = AutoModelForSequenceClassification.from_pretrained(model_name, num_labels=num_classes)  # Replace num_classes with the number of classes in your data"
      ],
      "metadata": {
        "colab": {
          "base_uri": "https://localhost:8080/"
        },
        "id": "msPIURL_BkCn",
        "outputId": "2252fcc7-b8e7-40a6-fcc0-6f7fe4cb31a9"
      },
      "execution_count": null,
      "outputs": [
        {
          "output_type": "stream",
          "name": "stderr",
          "text": [
            "/usr/local/lib/python3.10/dist-packages/huggingface_hub/utils/_auth.py:94: UserWarning: \n",
            "The secret `HF_TOKEN` does not exist in your Colab secrets.\n",
            "To authenticate with the Hugging Face Hub, create a token in your settings tab (https://huggingface.co/settings/tokens), set it as secret in your Google Colab and restart your session.\n",
            "You will be able to reuse this secret in all of your notebooks.\n",
            "Please note that authentication is recommended but still optional to access public models or datasets.\n",
            "  warnings.warn(\n",
            "Some weights of DistilBertForSequenceClassification were not initialized from the model checkpoint at distilbert-base-uncased and are newly initialized: ['classifier.bias', 'classifier.weight', 'pre_classifier.bias', 'pre_classifier.weight']\n",
            "You should probably TRAIN this model on a down-stream task to be able to use it for predictions and inference.\n"
          ]
        }
      ]
    },
    {
      "cell_type": "code",
      "source": [
        "!pip install --upgrade transformers"
      ],
      "metadata": {
        "colab": {
          "base_uri": "https://localhost:8080/"
        },
        "id": "JrRqyC38CMjV",
        "outputId": "f4cd1af7-2e6c-4748-cf2a-7a24176257b7"
      },
      "execution_count": null,
      "outputs": [
        {
          "output_type": "stream",
          "name": "stdout",
          "text": [
            "Requirement already satisfied: transformers in /usr/local/lib/python3.10/dist-packages (4.47.1)\n",
            "Requirement already satisfied: filelock in /usr/local/lib/python3.10/dist-packages (from transformers) (3.16.1)\n",
            "Requirement already satisfied: huggingface-hub<1.0,>=0.24.0 in /usr/local/lib/python3.10/dist-packages (from transformers) (0.27.0)\n",
            "Requirement already satisfied: numpy>=1.17 in /usr/local/lib/python3.10/dist-packages (from transformers) (1.26.4)\n",
            "Requirement already satisfied: packaging>=20.0 in /usr/local/lib/python3.10/dist-packages (from transformers) (24.2)\n",
            "Requirement already satisfied: pyyaml>=5.1 in /usr/local/lib/python3.10/dist-packages (from transformers) (6.0.2)\n",
            "Requirement already satisfied: regex!=2019.12.17 in /usr/local/lib/python3.10/dist-packages (from transformers) (2024.11.6)\n",
            "Requirement already satisfied: requests in /usr/local/lib/python3.10/dist-packages (from transformers) (2.32.3)\n",
            "Requirement already satisfied: tokenizers<0.22,>=0.21 in /usr/local/lib/python3.10/dist-packages (from transformers) (0.21.0)\n",
            "Requirement already satisfied: safetensors>=0.4.1 in /usr/local/lib/python3.10/dist-packages (from transformers) (0.4.5)\n",
            "Requirement already satisfied: tqdm>=4.27 in /usr/local/lib/python3.10/dist-packages (from transformers) (4.67.1)\n",
            "Requirement already satisfied: fsspec>=2023.5.0 in /usr/local/lib/python3.10/dist-packages (from huggingface-hub<1.0,>=0.24.0->transformers) (2024.9.0)\n",
            "Requirement already satisfied: typing-extensions>=3.7.4.3 in /usr/local/lib/python3.10/dist-packages (from huggingface-hub<1.0,>=0.24.0->transformers) (4.12.2)\n",
            "Requirement already satisfied: charset-normalizer<4,>=2 in /usr/local/lib/python3.10/dist-packages (from requests->transformers) (3.4.0)\n",
            "Requirement already satisfied: idna<4,>=2.5 in /usr/local/lib/python3.10/dist-packages (from requests->transformers) (3.10)\n",
            "Requirement already satisfied: urllib3<3,>=1.21.1 in /usr/local/lib/python3.10/dist-packages (from requests->transformers) (2.2.3)\n",
            "Requirement already satisfied: certifi>=2017.4.17 in /usr/local/lib/python3.10/dist-packages (from requests->transformers) (2024.12.14)\n"
          ]
        }
      ]
    },
    {
      "cell_type": "code",
      "source": [
        "from transformers import TrainingArguments, Trainer\n",
        "import numpy as np\n",
        "\n",
        "# 1. Prepare your data for the Trainer\n",
        "\n",
        "def tokenize_function(examples):\n",
        "    return tokenizer(examples['Prompt (SAS Code)'], padding=\"max_length\", truncation=True)\n",
        "\n",
        "# Create a Hugging Face Dataset from your pandas DataFrame\n",
        "dataset = Dataset.from_pandas(df)\n",
        "\n",
        "# Tokenize the dataset\n",
        "tokenized_datasets = dataset.map(tokenize_function, batched=True)\n",
        "\n",
        "# Create train and validation splits (adjust the split ratio as needed)\n",
        "train_testvalid = tokenized_datasets.train_test_split(test_size=0.2)\n",
        "test_valid = train_testvalid['test'].train_test_split(test_size=0.5)\n",
        "\n",
        "tokenized_datasets = DatasetDict({\n",
        "    'train': train_testvalid['train'],\n",
        "    'test': test_valid['test'],\n",
        "    'validation': test_valid['train']\n",
        "})\n",
        "\n",
        "# 2. Add a 'labels' column to your dataset\n",
        "# This function assumes a binary classification task (0 or 1)\n",
        "# You'll need to define a function to map your 'Response (PySpark Code)' to numerical labels\n",
        "def label_function(example):\n",
        "    \"\"\"\n",
        "    Assigns labels based on the length of the 'Response (PySpark Code)'.\n",
        "    This is a placeholder - replace with your specific logic for mapping\n",
        "    'Response (PySpark Code)' to numerical labels.\n",
        "    \"\"\"\n",
        "    # Example: Assign label 0 if the PySpark code is shorter than 50 characters,\n",
        "    # otherwise assign label 1.\n",
        "    if len(example['Response (PySpark Code)']) < 50:\n",
        "        example['labels'] = 0\n",
        "    else:\n",
        "        example['labels'] = 1\n",
        "    return example\n",
        "\n",
        "# Apply the label_function to add the 'labels' column\n",
        "tokenized_datasets = tokenized_datasets.map(label_function)\n",
        "\n",
        "\n",
        "# 3. Define TrainingArguments\n",
        "training_args = TrainingArguments(\n",
        "    output_dir=\"./results\",\n",
        "    per_device_train_batch_size=8,\n",
        "    per_device_eval_batch_size=64,\n",
        "    num_train_epochs=3,\n",
        "    learning_rate=2e-5,\n",
        "    weight_decay=0.01,\n",
        "    evaluation_strategy=\"epoch\",\n",
        "    save_strategy=\"epoch\",\n",
        "    load_best_model_at_end=True,\n",
        "    push_to_hub=False,\n",
        "    logging_dir='./logs',\n",
        "    report_to='none'\n",
        ")\n",
        "\n",
        "# 4. Define compute_metrics function (for evaluation)\n",
        "def compute_metrics(pred):\n",
        "    labels = pred.label_ids\n",
        "    preds = pred.predictions.argmax(-1)\n",
        "    acc = np.sum(preds == labels) / len(labels)\n",
        "    return {\"accuracy\": acc}\n",
        "\n",
        "# 5. Create the Trainer instance and train\n",
        "trainer = Trainer(\n",
        "    model=model,\n",
        "    args=training_args,\n",
        "    train_dataset=tokenized_datasets[\"train\"],\n",
        "    eval_dataset=tokenized_datasets[\"validation\"],\n",
        "    compute_metrics=compute_metrics,\n",
        ")\n",
        "\n",
        "trainer.train()\n",
        "\n",
        "# 6. Save the trained model\n",
        "trainer.save_model(\"./my_sas_to_pyspark_model\")"
      ],
      "metadata": {
        "colab": {
          "base_uri": "https://localhost:8080/",
          "height": 352,
          "referenced_widgets": [
            "45c663ccfd0647b5bf0b424648ae7758",
            "eff218ea6b0b49a38d9cb18766295724",
            "b1b2fcac6d4d4f8ab68ef25d4e41a343",
            "ebd14584110b4453bf475a976575db16",
            "c29855991fa8485c8bf5e5e1332ded42",
            "e0a7e6d672ca42c2822168565ef4e55f",
            "504c92cc4b81401b9b73cf772a35aca4",
            "b047a4b8e4e4429683f70dd00416f7d9",
            "ba4141825c2f4272a53754514554bdb3",
            "d3b9cc8762ab48b8b67cc4f8cc6c4dca",
            "c5c4b33843804fd2b33c701d60b6775c",
            "b3b2d8a688ee4f3cbe2f56656ad13f7f",
            "ad833490f345440d9b34d8acf6d8d013",
            "03abc56e25f84ed68a049d52b93c5749",
            "8cd8ff73126a40e8b3a96d3e5d158ba8",
            "7d04814d470b4caa968b364b8700cb59",
            "fe68b8fbda4047cd8feefabf07b02fd7",
            "d7231ba6633b4c379899947c677a3963",
            "3898d79bc04e48e5bd92d8605e33d664",
            "7c2608279474405dadaaad7a3e2ab2cb",
            "fd229a09e6654e368ab0bdc5adb82f6e",
            "b11db33231454496957e020f1686ba82",
            "1bdc663b588140269271167aca6c792e",
            "0ae8364518c24d11812801b14e46f2c6",
            "81184f4b360042758069f3b3dec03056",
            "27d2f4bbd69d497d94aa3da8085d684c",
            "753541428beb4a2dba8a1626a275258c",
            "c127c3198503465084202c5db6cfc189",
            "2375da4e89814bc9923949537964df25",
            "eaf272a04a9044fd9fa1164682a6bddc",
            "527eda57cc2849f8a341b818bab7be7a",
            "41fa6406da8545c2b669372b091bea15",
            "944b6bdfe07c45898b52cbde5a594f38",
            "6d36427cd3b94af5a4ed1034c0ce3d3b",
            "4c30f101176a42958d4bd7bf200958c6",
            "bbae1da9e4c742cf9f8763eadb2f7cc9",
            "864dcfb45f244cf79021cc13d79f5f42",
            "036da98f3d524c309dd182e41f904bd2",
            "76ab0a78a1db42f7b22bd92150c9ed18",
            "eb6f5bebe30146848c9d9168f49a3da4",
            "1c7052c6cdcd4eb9bed288bf5d825e5b",
            "52ff4bb7def543d2bdd0bacc355d0ffb",
            "3830ee3b55ce4ef08e102755c99aa736",
            "277740331f514b3796d311b21c173d1d"
          ]
        },
        "id": "qre933w9CArF",
        "outputId": "31ebc172-d892-4355-bc2b-45e05efe50bb"
      },
      "execution_count": null,
      "outputs": [
        {
          "output_type": "display_data",
          "data": {
            "text/plain": [
              "Map:   0%|          | 0/49 [00:00<?, ? examples/s]"
            ],
            "application/vnd.jupyter.widget-view+json": {
              "version_major": 2,
              "version_minor": 0,
              "model_id": "45c663ccfd0647b5bf0b424648ae7758"
            }
          },
          "metadata": {}
        },
        {
          "output_type": "display_data",
          "data": {
            "text/plain": [
              "Map:   0%|          | 0/39 [00:00<?, ? examples/s]"
            ],
            "application/vnd.jupyter.widget-view+json": {
              "version_major": 2,
              "version_minor": 0,
              "model_id": "b3b2d8a688ee4f3cbe2f56656ad13f7f"
            }
          },
          "metadata": {}
        },
        {
          "output_type": "display_data",
          "data": {
            "text/plain": [
              "Map:   0%|          | 0/5 [00:00<?, ? examples/s]"
            ],
            "application/vnd.jupyter.widget-view+json": {
              "version_major": 2,
              "version_minor": 0,
              "model_id": "1bdc663b588140269271167aca6c792e"
            }
          },
          "metadata": {}
        },
        {
          "output_type": "display_data",
          "data": {
            "text/plain": [
              "Map:   0%|          | 0/5 [00:00<?, ? examples/s]"
            ],
            "application/vnd.jupyter.widget-view+json": {
              "version_major": 2,
              "version_minor": 0,
              "model_id": "6d36427cd3b94af5a4ed1034c0ce3d3b"
            }
          },
          "metadata": {}
        },
        {
          "output_type": "stream",
          "name": "stderr",
          "text": [
            "/usr/local/lib/python3.10/dist-packages/transformers/training_args.py:1575: FutureWarning: `evaluation_strategy` is deprecated and will be removed in version 4.46 of 🤗 Transformers. Use `eval_strategy` instead\n",
            "  warnings.warn(\n"
          ]
        },
        {
          "output_type": "display_data",
          "data": {
            "text/plain": [
              "<IPython.core.display.HTML object>"
            ],
            "text/html": [
              "\n",
              "    <div>\n",
              "      \n",
              "      <progress value='15' max='15' style='width:300px; height:20px; vertical-align: middle;'></progress>\n",
              "      [15/15 00:32, Epoch 3/3]\n",
              "    </div>\n",
              "    <table border=\"1\" class=\"dataframe\">\n",
              "  <thead>\n",
              " <tr style=\"text-align: left;\">\n",
              "      <th>Epoch</th>\n",
              "      <th>Training Loss</th>\n",
              "      <th>Validation Loss</th>\n",
              "      <th>Accuracy</th>\n",
              "    </tr>\n",
              "  </thead>\n",
              "  <tbody>\n",
              "    <tr>\n",
              "      <td>1</td>\n",
              "      <td>No log</td>\n",
              "      <td>0.567072</td>\n",
              "      <td>0.800000</td>\n",
              "    </tr>\n",
              "    <tr>\n",
              "      <td>2</td>\n",
              "      <td>No log</td>\n",
              "      <td>0.555238</td>\n",
              "      <td>0.800000</td>\n",
              "    </tr>\n",
              "    <tr>\n",
              "      <td>3</td>\n",
              "      <td>No log</td>\n",
              "      <td>0.547658</td>\n",
              "      <td>0.800000</td>\n",
              "    </tr>\n",
              "  </tbody>\n",
              "</table><p>"
            ]
          },
          "metadata": {}
        }
      ]
    },
    {
      "cell_type": "code",
      "source": [
        "from transformers import AutoTokenizer, AutoModelForSequenceClassification, pipeline\n",
        "\n",
        "model_path = \"./my_sas_to_pyspark_model\"  # Path where you saved your model\n",
        "model_name = \"distilbert-base-uncased\"  # Or the model name you used for training\n",
        "\n",
        "tokenizer = AutoTokenizer.from_pretrained(model_name)\n",
        "model = AutoModelForSequenceClassification.from_pretrained(model_path)\n",
        "\n",
        "# Create a text classification pipeline for easier inference\n",
        "classifier = pipeline(\"text-classification\", model=model, tokenizer=tokenizer)"
      ],
      "metadata": {
        "colab": {
          "base_uri": "https://localhost:8080/"
        },
        "id": "PtJw6J5LEB4s",
        "outputId": "4227fe11-99e1-4610-d5b0-f8a749a43642"
      },
      "execution_count": null,
      "outputs": [
        {
          "output_type": "stream",
          "name": "stderr",
          "text": [
            "Device set to use cuda:0\n"
          ]
        }
      ]
    },
    {
      "cell_type": "code",
      "source": [
        "test_sas_prompts = [\n",
        "    \"proc sql; select * from mytable where age > 25; quit;\",\n",
        "    \"data new_data; set old_data; keep name age; run;\",\n",
        "    # ... more test prompts ...\n",
        "]\n",
        "\n",
        "# Or if you have it in a DataFrame:\n",
        "# test_df = pd.read_csv(\"test_sas_prompts.csv\")\n",
        "# test_sas_prompts = test_df[\"Prompt (SAS Code)\"].tolist()"
      ],
      "metadata": {
        "id": "5Wn2-9D1EHMR"
      },
      "execution_count": null,
      "outputs": []
    },
    {
      "cell_type": "code",
      "source": [
        "predictions = classifier(test_sas_prompts)\n",
        "predictions"
      ],
      "metadata": {
        "colab": {
          "base_uri": "https://localhost:8080/"
        },
        "id": "wF6vMKjaEMxd",
        "outputId": "897be527-6979-4369-cd2f-18014312ccc0"
      },
      "execution_count": null,
      "outputs": [
        {
          "output_type": "execute_result",
          "data": {
            "text/plain": [
              "[{'label': 'LABEL_0', 'score': 0.6291298270225525},\n",
              " {'label': 'LABEL_0', 'score': 0.6343085765838623}]"
            ]
          },
          "metadata": {},
          "execution_count": 14
        }
      ]
    },
    {
      "cell_type": "code",
      "source": [
        "# Example of calculating accuracy (assuming you have ground truth labels)\n",
        "from sklearn.metrics import accuracy_score\n",
        "\n",
        "# Make sure ground_truth_labels has the correct number of labels for your test prompts\n",
        "ground_truth_labels = [1, 0]  # Updated to match the 2 test prompts\n",
        "\n",
        "predicted_labels = [pred['label'] for pred in predictions]\n",
        "# Convert predicted labels to numerical format (assuming LABEL_0 corresponds to 0 and LABEL_1 to 1)\n",
        "predicted_labels = [0 if label == 'LABEL_0' else 1 for label in predicted_labels]\n",
        "\n",
        "accuracy = accuracy_score(ground_truth_labels, predicted_labels)\n",
        "print(f\"Accuracy: {accuracy}\")"
      ],
      "metadata": {
        "colab": {
          "base_uri": "https://localhost:8080/"
        },
        "id": "g7nlJvL-ERi_",
        "outputId": "d9f42bb2-9377-4db4-fefb-933a9ef8e0af"
      },
      "execution_count": null,
      "outputs": [
        {
          "output_type": "stream",
          "name": "stdout",
          "text": [
            "Accuracy: 0.5\n"
          ]
        }
      ]
    },
    {
      "cell_type": "code",
      "source": [
        "from transformers import AutoTokenizer, AutoModelForSequenceClassification, pipeline\n",
        "\n",
        "model_path = \"./my_sas_to_pyspark_model\"\n",
        "model_name = \"distilbert-base-uncased\"\n",
        "\n",
        "tokenizer = AutoTokenizer.from_pretrained(model_name)\n",
        "model = AutoModelForSequenceClassification.from_pretrained(model_path)\n",
        "\n",
        "classifier = pipeline(\"text-classification\", model=model, tokenizer=tokenizer)"
      ],
      "metadata": {
        "colab": {
          "base_uri": "https://localhost:8080/"
        },
        "id": "AZOxozNmE7vO",
        "outputId": "1d014efe-672c-41a0-bec1-94c1479c7482"
      },
      "execution_count": null,
      "outputs": [
        {
          "output_type": "stream",
          "name": "stderr",
          "text": [
            "Device set to use cuda:0\n"
          ]
        }
      ]
    },
    {
      "cell_type": "code",
      "source": [
        "sas_code = \"proc means data=sashelp.class; var age; run;\" # Example SAS code"
      ],
      "metadata": {
        "id": "KVLueUfdE_NT"
      },
      "execution_count": null,
      "outputs": []
    },
    {
      "cell_type": "code",
      "source": [
        "prediction = classifier(sas_code)[0]  # Get the first (and only) prediction\n",
        "prediction"
      ],
      "metadata": {
        "colab": {
          "base_uri": "https://localhost:8080/"
        },
        "id": "kOm4vaDpFBvi",
        "outputId": "2186f49d-ac58-4484-dac8-95a2a8e8e1d4"
      },
      "execution_count": null,
      "outputs": [
        {
          "output_type": "execute_result",
          "data": {
            "text/plain": [
              "{'label': 'LABEL_0', 'score': 0.640419065952301}"
            ]
          },
          "metadata": {},
          "execution_count": 20
        }
      ]
    },
    {
      "cell_type": "code",
      "source": [
        "# Assume your model predicts a class label (e.g., \"proc_means\")\n",
        "predicted_class = prediction['label']\n",
        "\n",
        "# Lookup table to map class to PySpark code\n",
        "pyspark_code_lookup = {\n",
        "    \"proc_means\": \"df.selectExpr('avg(age)').show()\",\n",
        "    \"data_step\": \"df = spark.read.format('sas7bdat').load('sashelp.class')\",\n",
        "    # ... more mappings ...\n",
        "}\n",
        "\n",
        "# Get the PySpark code\n",
        "pyspark_code = pyspark_code_lookup.get(predicted_class, \"Unknown SAS code\")\n",
        "\n",
        "print(f\"SAS Code: {sas_code}\")\n",
        "print(f\"Predicted PySpark Code: {pyspark_code}\")"
      ],
      "metadata": {
        "colab": {
          "base_uri": "https://localhost:8080/"
        },
        "id": "gbifVTpEFKUA",
        "outputId": "d54a1476-66f2-434f-925a-b6ccc8b65284"
      },
      "execution_count": null,
      "outputs": [
        {
          "output_type": "stream",
          "name": "stdout",
          "text": [
            "SAS Code: proc means data=sashelp.class; var age; run;\n",
            "Predicted PySpark Code: Unknown SAS code\n"
          ]
        }
      ]
    },
    {
      "cell_type": "code",
      "source": [
        "from transformers import AutoTokenizer, AutoModelForSequenceClassification, pipeline\n",
        "\n",
        "# 1. Load your trained model and tokenizer\n",
        "model_path = \"./my_sas_to_pyspark_model\"\n",
        "model_name = \"distilbert-base-uncased\"\n",
        "\n",
        "tokenizer = AutoTokenizer.from_pretrained(model_name)\n",
        "model = AutoModelForSequenceClassification.from_pretrained(model_path)\n",
        "\n",
        "classifier = pipeline(\"text-classification\", model=model, tokenizer=tokenizer)\n",
        "\n",
        "# 2. Define a lookup table to map predicted classes to PySpark code\n",
        "pyspark_code_lookup = {\n",
        "    \"LABEL_0\": { # Assuming LABEL_0 corresponds to simple SAS code\n",
        "        \"proc means data=sashelp.class; var age; run;\": \"df.selectExpr('avg(age)').show()\",\n",
        "        \"data new_data; set old_data; keep name age; run;\": \"df = df.select('name', 'age')\",\n",
        "        # Add more SAS code and PySpark code mappings for LABEL_0\n",
        "    },\n",
        "    \"LABEL_1\": { # Assuming LABEL_1 corresponds to more complex SAS code\n",
        "        \"proc sql; select * from mytable where age > 25; quit;\": \"spark.sql('SELECT * FROM mytable WHERE age > 25')\",\n",
        "        # Add more SAS code and PySpark code mappings for LABEL_1\n",
        "    }\n",
        "}\n",
        "\n",
        "# 3. Function to get equivalent PySpark code\n",
        "def get_pyspark_code(sas_code):\n",
        "    prediction = classifier(sas_code)[0]\n",
        "    predicted_class = prediction['label']\n",
        "\n",
        "    # Get the relevant PySpark code from the lookup table\n",
        "    pyspark_code = pyspark_code_lookup.get(predicted_class, {}).get(sas_code, \"PySpark code not found for this SAS code.\")\n",
        "\n",
        "    return pyspark_code\n",
        "\n",
        "# 4. Test with a SAS code snippet\n",
        "sas_code = \"proc means data=sashelp.class; var age; run;\"\n",
        "pyspark_code = get_pyspark_code(sas_code)\n",
        "\n",
        "print(f\"SAS Code: {sas_code}\")\n",
        "print(f\"Equivalent PySpark Code: {pyspark_code}\")"
      ],
      "metadata": {
        "colab": {
          "base_uri": "https://localhost:8080/"
        },
        "id": "pf6xynQaFekx",
        "outputId": "c527038f-12df-44b5-cd3f-214a2068fe47"
      },
      "execution_count": null,
      "outputs": [
        {
          "output_type": "stream",
          "name": "stderr",
          "text": [
            "Device set to use cuda:0\n"
          ]
        },
        {
          "output_type": "stream",
          "name": "stdout",
          "text": [
            "SAS Code: proc means data=sashelp.class; var age; run;\n",
            "Equivalent PySpark Code: df.selectExpr('avg(age)').show()\n"
          ]
        }
      ]
    },
    {
      "cell_type": "markdown",
      "source": [
        "Not quite! The provided PySpark code snippet (df.selectExpr('avg(age)').show()) calculates the average of the age column and displays it, but it does not fully replicate the functionality of the SAS PROC MEANS procedure."
      ],
      "metadata": {
        "id": "Xbra5IXfFzzZ"
      }
    },
    {
      "cell_type": "code",
      "source": [
        "# 4. Test with multiple SAS code snippets\n",
        "test_sas_codes = [\n",
        "    \"proc means data=sashelp.class; var age; run;\",\n",
        "    \"data new_data; set old_data; keep name age; run;\",\n",
        "    \"proc sql; select * from mytable where age > 25; quit;\",\n",
        "    # Add more SAS code snippets here\n",
        "]\n",
        "\n",
        "for sas_code in test_sas_codes:\n",
        "    pyspark_code = get_pyspark_code(sas_code)\n",
        "    print(f\"SAS Code: {sas_code}\")\n",
        "    print(f\"Equivalent PySpark Code: {pyspark_code}\")\n",
        "    print(\"-\" * 30)"
      ],
      "metadata": {
        "colab": {
          "base_uri": "https://localhost:8080/"
        },
        "id": "XKeiDdMJF31C",
        "outputId": "42e9a7d6-fa55-4e17-c0ae-8324af26fb9f"
      },
      "execution_count": null,
      "outputs": [
        {
          "output_type": "stream",
          "name": "stdout",
          "text": [
            "SAS Code: proc means data=sashelp.class; var age; run;\n",
            "Equivalent PySpark Code: df.selectExpr('avg(age)').show()\n",
            "------------------------------\n",
            "SAS Code: data new_data; set old_data; keep name age; run;\n",
            "Equivalent PySpark Code: df = df.select('name', 'age')\n",
            "------------------------------\n",
            "SAS Code: proc sql; select * from mytable where age > 25; quit;\n",
            "Equivalent PySpark Code: PySpark code not found for this SAS code.\n",
            "------------------------------\n"
          ]
        }
      ]
    }
  ]
}